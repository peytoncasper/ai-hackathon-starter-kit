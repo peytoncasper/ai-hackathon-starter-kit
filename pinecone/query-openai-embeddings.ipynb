{
 "cells": [
  {
   "attachments": {},
   "cell_type": "markdown",
   "metadata": {},
   "source": [
    "## Loading data into Pinecone\n",
    "\n",
    "Make sure you have your Pinecone API Key and Environment URL handy."
   ]
  },
  {
   "cell_type": "code",
   "execution_count": null,
   "metadata": {},
   "outputs": [],
   "source": [
    "## Install the client library into your Jupyter environment\n",
    "!pip3 install pinecone-client\n",
    "!pip3 install pandas\n",
    "!pip3 install openai"
   ]
  },
  {
   "cell_type": "code",
   "execution_count": null,
   "metadata": {},
   "outputs": [],
   "source": [
    "# Import dependencies\n",
    "import pinecone\n",
    "import pandas as pd\n",
    "import numpy as np\n",
    "import openai"
   ]
  },
  {
   "cell_type": "code",
   "execution_count": 2,
   "metadata": {},
   "outputs": [],
   "source": [
    "# Init the openai client\n",
    "## IMPORTANT: YOUR API KEY IS SENSITIVE INFORMATION\n",
    "## IMPORTANT: DELETE THE API KEY FROM THIS NOTEBOOK BEFORE UPLOADING TO GITHUB\n",
    "openai.api_key = \"OPENAI_API_KEY\""
   ]
  },
  {
   "cell_type": "code",
   "execution_count": 3,
   "metadata": {},
   "outputs": [],
   "source": [
    "## Queries in a Vector database are done by embedding\n",
    "## the query text into a vector and then using a similary search across\n",
    "## the vector space. So lets say that we want to query our dataset\n",
    "## for the \"awesome string\"\n",
    "\n",
    "query_string = \"What are the most awesome strings?\"\n",
    "query_vector = openai.Embedding.create(input = [query_string], model=\"text-embedding-ada-002\")['data'][0]['embedding']"
   ]
  },
  {
   "cell_type": "code",
   "execution_count": 4,
   "metadata": {},
   "outputs": [],
   "source": [
    "# Init the pinecone client\n",
    "## IMPORTANT: YOUR API KEY IS SENSITIVE INFORMATION\n",
    "## IMPORTANT: DELETE THE API KEY FROM THIS NOTEBOOK BEFORE UPLOADING TO GITHUB\n",
    "client = pinecone.init(api_key=\"PINECONE_API_KEY\", environment=\"PINECONE_ENVIRONMENT\")"
   ]
  },
  {
   "cell_type": "code",
   "execution_count": 5,
   "metadata": {},
   "outputs": [],
   "source": [
    "index = pinecone.Index(\"test\")"
   ]
  },
  {
   "cell_type": "code",
   "execution_count": 6,
   "metadata": {},
   "outputs": [],
   "source": [
    "rows = index.query(\n",
    "  vector=query_vector,\n",
    "  top_k=3,\n",
    "  include_values=True\n",
    ")"
   ]
  },
  {
   "cell_type": "code",
   "execution_count": 13,
   "metadata": {},
   "outputs": [
    {
     "name": "stdout",
     "output_type": "stream",
     "text": [
      "First Line  0.847613811\n",
      "Third Line  0.694703043\n",
      "Second Line  0.687299669\n"
     ]
    }
   ],
   "source": [
    "## We can see below the top 3 rows that were returned and the a score\n",
    "## which represents how similar the row matches the query\n",
    "for row in rows[\"matches\"]:\n",
    "    print(row[\"id\"] + \"  \" + str(row[\"score\"]))"
   ]
  },
  {
   "cell_type": "code",
   "execution_count": null,
   "metadata": {},
   "outputs": [],
   "source": [
    "## At this point you're probably wondering, how we can get back\n",
    "## the original text. Thats the important part of the key \n",
    "## that we stored along side the embedding vector. This\n",
    "## should correspond to a primary key in a PostgreSQL DB\n",
    "## or maybe just a row ID in Airtable. The important part to\n",
    "## understand is that Vector DBs act as an index. A way to \n",
    "## use natural language to search for data. The underlying storage\n",
    "## should still be somewhere else for retrieval."
   ]
  }
 ],
 "metadata": {
  "kernelspec": {
   "display_name": "Python 3",
   "language": "python",
   "name": "python3"
  },
  "language_info": {
   "codemirror_mode": {
    "name": "ipython",
    "version": 3
   },
   "file_extension": ".py",
   "mimetype": "text/x-python",
   "name": "python",
   "nbconvert_exporter": "python",
   "pygments_lexer": "ipython3",
   "version": "3.9.6"
  },
  "orig_nbformat": 4
 },
 "nbformat": 4,
 "nbformat_minor": 2
}
